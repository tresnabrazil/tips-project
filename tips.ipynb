{
 "cells": [
  {
   "cell_type": "markdown",
   "metadata": {},
   "source": [
    "## Future and Current Matches"
   ]
  },
  {
   "cell_type": "code",
   "execution_count": 37,
   "metadata": {},
   "outputs": [],
   "source": [
    "import requests\n",
    "from bs4 import BeautifulSoup\n",
    "import pandas as pd\n",
    "import openpyxl\n",
    "\n",
    "headers = {\n",
    "    'User-Agent': 'Mozilla/5.0 (Windows NT 10.0; Win64; x64) AppleWebKit/537.36 (KHTML, like Gecko) Chrome/91.0.4472.124 Safari/537.36'\n",
    "}\n",
    "\n",
    "# URL da página alvo\n",
    "url = 'https://pt.betsapi.com/ls/23114/Esoccer-GT-Leagues-%E2%80%93-12-mins-play'\n",
    "\n",
    "# Envia uma solicitação GET para a página\n",
    "response = requests.get(url, headers=headers)\n",
    "\n",
    "# Verifica se a solicitação foi bem-sucedida (código de status 200)\n",
    "if response.status_code == 200:\n",
    "    # Obtém o conteúdo HTML da página\n",
    "    html = response.text\n",
    "\n",
    "    # Cria um objeto BeautifulSoup para analisar o HTML\n",
    "    soup = BeautifulSoup(html, 'html.parser')\n",
    "\n",
    "    # Encontrar a tabela de dados\n",
    "    table = soup.find('table', {'class': 'table table-sm'})\n",
    "\n",
    "    msg = ''\n",
    "\n",
    "    # Verifica se a tabela foi encontrada\n",
    "    if table:\n",
    "        # Itera sobre as linhas da tabela\n",
    "        for row in table.find_all('tr'):\n",
    "            # Obtém as células da linha\n",
    "            cells = row.find_all('td')\n",
    "            # Exibe o conteúdo das células\n",
    "            if cells:\n",
    "                dateTime = cells[0].text.strip()\n",
    "                confront = cells[2].text.strip()\n",
    "                if \"/\" not in dateTime:\n",
    "                    dateTime = 'LIVE'\n",
    "                msg += f'Data e Hora: {dateTime} \\n Confronto: {confront} \\n \\n \\n'\n",
    "else:\n",
    "    # Se a solicitação não foi bem-sucedida, exibe uma mensagem de erro\n",
    "    print(f\"Erro ao acessar a página. Código de status: {response.status_code}\")\n"
   ]
  },
  {
   "cell_type": "code",
   "execution_count": 12,
   "metadata": {},
   "outputs": [],
   "source": [
    "excel_filename = 'betting_data.xlsx'\n",
    "df.to_excel(excel_filename, index=False)"
   ]
  },
  {
   "cell_type": "code",
   "execution_count": 35,
   "metadata": {},
   "outputs": [
    {
     "data": {
      "text/plain": [
       "'Data e Hora: LIVE \\n \\n Confronto: Juventus (Nio) Esports v AC Milan (Gorilla) Esports \\nData e Hora: LIVE \\n \\n Confronto: Inter (Cantona) Esports v Napoli (Nazario) Esports \\nData e Hora: 12/13 04:00 \\n \\n Confronto: Napoli (Seagal) Esports v Man City (Aladdin) Esports \\nData e Hora: 12/13 04:00 \\n \\n Confronto: Real Madrid (Mad) Esports v Union Berlin (Jack) Esports \\nData e Hora: 12/13 04:15 \\n \\n Confronto: Braga (Furious) Esports v Union Berlin (Jack) Esports \\nData e Hora: 12/13 04:15 \\n \\n Confronto: Real Madrid (Mad) Esports v Napoli (Seagal) Esports \\nData e Hora: 12/13 04:30 \\n \\n Confronto: Union Berlin (Jack) Esports v Napoli (Seagal) Esports \\nData e Hora: 12/13 04:30 \\n \\n Confronto: Braga (Furious) Esports v Man City (Aladdin) Esports \\nData e Hora: 12/13 04:45 \\n \\n Confronto: Braga (Furious) Esports v Napoli (Seagal) Esports \\nData e Hora: 12/13 04:45 \\n \\n Confronto: Man City (Aladdin) Esports v Real Madrid (Mad) Esports \\nData e Hora: 12/13 05:00 \\n \\n Confronto: Man City (Aladdin) Esports v Union Berlin (Jack) Esports \\nData e Hora: 12/13 05:00 \\n \\n Confronto: Braga (Furious) Esports v Real Madrid (Mad) Esports \\nData e Hora: 12/13 05:15 \\n \\n Confronto: Man City (Aladdin) Esports v Napoli (Seagal) Esports \\nData e Hora: 12/13 05:15 \\n \\n Confronto: Union Berlin (Jack) Esports v Real Madrid (Mad) Esports \\nData e Hora: 12/13 05:30 \\n \\n Confronto: Union Berlin (Jack) Esports v Braga (Furious) Esports \\nData e Hora: 12/13 05:30 \\n \\n Confronto: Napoli (Seagal) Esports v Real Madrid (Mad) Esports \\nData e Hora: 12/13 05:45 \\n \\n Confronto: Napoli (Seagal) Esports v Union Berlin (Jack) Esports \\nData e Hora: 12/13 05:45 \\n \\n Confronto: Man City (Aladdin) Esports v Braga (Furious) Esports \\nData e Hora: 12/13 06:00 \\n \\n Confronto: Napoli (Seagal) Esports v Braga (Furious) Esports \\nData e Hora: 12/13 06:00 \\n \\n Confronto: Real Madrid (Mad) Esports v Man City (Aladdin) Esports \\nData e Hora: 12/13 06:15 \\n \\n Confronto: Real Madrid (Mad) Esports v Braga (Furious) Esports \\nData e Hora: 12/13 06:15 \\n \\n Confronto: Union Berlin (Jack) Esports v Man City (Aladdin) Esports \\nData e Hora: 12/13 06:30 \\n \\n Confronto: Bayer 04 (Mad) Esports v RB Leipzig (Jack) Esports \\nData e Hora: 12/13 06:30 \\n \\n Confronto: VfB Stuttgart (Seagal) Esports v Bayern (Aladdin) Esports \\nData e Hora: 12/13 06:45 \\n \\n Confronto: Dortmund (Furious) Esports v RB Leipzig (Jack) Esports \\nData e Hora: 12/13 06:45 \\n \\n Confronto: Bayer 04 (Mad) Esports v VfB Stuttgart (Seagal) Esports \\nData e Hora: 12/13 07:00 \\n \\n Confronto: RB Leipzig (Jack) Esports v VfB Stuttgart (Seagal) Esports \\nData e Hora: 12/13 07:00 \\n \\n Confronto: Dortmund (Furious) Esports v Bayern (Aladdin) Esports \\nData e Hora: 12/13 07:15 \\n \\n Confronto: Dortmund (Furious) Esports v VfB Stuttgart (Seagal) Esports \\nData e Hora: 12/13 07:15 \\n \\n Confronto: Bayern (Aladdin) Esports v Bayer 04 (Mad) Esports \\n'"
      ]
     },
     "execution_count": 35,
     "metadata": {},
     "output_type": "execute_result"
    }
   ],
   "source": [
    "msg"
   ]
  },
  {
   "cell_type": "markdown",
   "metadata": {},
   "source": [
    "## Telegram Bot Setup"
   ]
  },
  {
   "cell_type": "code",
   "execution_count": 26,
   "metadata": {},
   "outputs": [],
   "source": [
    "# enviar mensagens utilizando o bot para um chat específico\n",
    "def send_message(token, chat_id, message):\n",
    "    try:\n",
    "        data = {\"chat_id\": chat_id, \"text\": msg}\n",
    "        url = \"https://api.telegram.org/bot{}/sendMessage\".format(token)\n",
    "        requests.post(url, data)\n",
    "    except Exception as e:\n",
    "        print(\"Erro no sendMessage:\", e)"
   ]
  },
  {
   "cell_type": "code",
   "execution_count": 27,
   "metadata": {},
   "outputs": [
    {
     "name": "stdout",
     "output_type": "stream",
     "text": [
      "Id do chat: -4091571429\n"
     ]
    }
   ],
   "source": [
    "token = \"6438009338:AAE8djkNI4j7cSDg5DT_iTCOaVHoFhDCl_Q\"\n",
    "# id do chat que será enviado as mensagens\n",
    "#chat_id = last_chat_id(token)\n",
    "chat_id = '-4091571429'\n",
    "print(\"Id do chat:\", chat_id)"
   ]
  },
  {
   "cell_type": "code",
   "execution_count": 28,
   "metadata": {},
   "outputs": [
    {
     "data": {
      "text/plain": [
       "'https://api.telegram.org/bot6438009338:AAE8djkNI4j7cSDg5DT_iTCOaVHoFhDCl_Q/getUpdates'"
      ]
     },
     "execution_count": 28,
     "metadata": {},
     "output_type": "execute_result"
    }
   ],
   "source": [
    "url = \"https://api.telegram.org/bot{}/getUpdates\".format(token)\n",
    "url"
   ]
  },
  {
   "cell_type": "markdown",
   "metadata": {},
   "source": [
    "## Send Tips"
   ]
  },
  {
   "cell_type": "code",
   "execution_count": 38,
   "metadata": {},
   "outputs": [],
   "source": [
    "send_message(token, chat_id, msg)"
   ]
  }
 ],
 "metadata": {
  "kernelspec": {
   "display_name": "Python 3",
   "language": "python",
   "name": "python3"
  },
  "language_info": {
   "codemirror_mode": {
    "name": "ipython",
    "version": 3
   },
   "file_extension": ".py",
   "mimetype": "text/x-python",
   "name": "python",
   "nbconvert_exporter": "python",
   "pygments_lexer": "ipython3",
   "version": "3.7.8"
  }
 },
 "nbformat": 4,
 "nbformat_minor": 2
}
